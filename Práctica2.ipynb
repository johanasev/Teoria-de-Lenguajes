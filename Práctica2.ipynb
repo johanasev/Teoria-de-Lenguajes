{
  "nbformat": 4,
  "nbformat_minor": 0,
  "metadata": {
    "colab": {
      "provenance": [],
      "authorship_tag": "ABX9TyN1NThZtL/bvKb8YU3urLdZ",
      "include_colab_link": true
    },
    "kernelspec": {
      "name": "python3",
      "display_name": "Python 3"
    },
    "language_info": {
      "name": "python"
    }
  },
  "cells": [
    {
      "cell_type": "markdown",
      "metadata": {
        "id": "view-in-github",
        "colab_type": "text"
      },
      "source": [
        "<a href=\"https://colab.research.google.com/github/johanasev/Teoria-de-Lenguajes/blob/main/Pr%C3%A1ctica2.ipynb\" target=\"_parent\"><img src=\"https://colab.research.google.com/assets/colab-badge.svg\" alt=\"Open In Colab\"/></a>"
      ]
    },
    {
      "cell_type": "markdown",
      "source": [
        "**Practica 1 - Teoría de Lenguajes y Laboratorio**\n",
        "\n",
        "Angi Sirley Hoyos - CC: 1001481035 <br>\n",
        "Johana Sevillano - CC: 1004189386\n",
        "<br><br>\n",
        "**Punto 1**\n",
        "Elaborar un programa en Python que permita simular en modo animado cuando una cadena de entrada tenga un par de unos consecutivos ó un par de ceros consecutivos. La parte animada es que un círculo cambiará de color cuando se reconoza la palabra.\n",
        "\n",
        "\n"
      ],
      "metadata": {
        "id": "o5Cy6V3fmnd6"
      }
    },
    {
      "cell_type": "code",
      "source": [
        "#El programa dara como resultado un circulo verde si no encuentra dos ceros o\n",
        "# dos unos seguidos. Si encuentra dos unos muestra un círculo rojo si es dos\n",
        "#ceros muestra un círculo amarillo.\n",
        "\n",
        "import matplotlib.pyplot as plt\n",
        "\n",
        "def detectar_secuencia(input_str):\n",
        "    cont_unos = 0\n",
        "    cont_ceros = 0\n",
        "    color = 'green'  # Color inicial del círculo\n",
        "\n",
        "    i = 0\n",
        "    while i < len(input_str) - 1:\n",
        "        if input_str[i] == '1' and input_str[i+1] == '1':\n",
        "            cont_unos += 1\n",
        "            color = 'red'  # Cambiar a rojo si se encuentran dos unos consecutivos\n",
        "            i += 2  # Avanzar dos posiciones para evitar solapamientos\n",
        "        elif input_str[i] == '0' and input_str[i+1] == '0':\n",
        "            cont_ceros += 1\n",
        "            color = 'yellow'  # Cambiar a amarillo si se encuentran dos ceros consecutivos\n",
        "            i += 2  # Avanzar dos posiciones para evitar solapamientos\n",
        "        else:\n",
        "            i += 1  # Avanzar una posición si no hay dos caracteres consecutivos iguales\n",
        "\n",
        "    return cont_unos, cont_ceros, color\n",
        "\n",
        "# Solicitar al usuario ingresar la cadena\n",
        "input_string = input(\"Ingrese una cadena de 0s y 1s: \")\n",
        "\n",
        "# Detectar consecutivos y contar\n",
        "cont_unos, cont_ceros, color = detectar_secuencia(input_string)\n",
        "\n",
        "# Graficar el círculo\n",
        "circle = plt.Circle((0.5, 0.5), 0.4, color=color)\n",
        "\n",
        "# Crear la figura y el eje\n",
        "fig, ax = plt.subplots()\n",
        "\n",
        "# Añadir el círculo al eje\n",
        "ax.add_artist(circle)\n",
        "\n",
        "# Establecer límites iguales para que el círculo sea circular\n",
        "ax.set_xlim(0, 1)\n",
        "ax.set_ylim(0, 1)\n",
        "ax.set_aspect('equal')\n",
        "\n",
        "# Ocultar los ejes\n",
        "ax.axis('off')\n",
        "\n",
        "# Mostrar el gráfico\n",
        "plt.show()\n",
        "\n",
        "# Imprimir los resultados\n",
        "print(\"Cantidad de unos consecutivos:\", cont_unos)\n",
        "print(\"Cantidad de ceros consecutivos:\", cont_ceros)"
      ],
      "metadata": {
        "id": "9t5Z_ck6pbO0"
      },
      "execution_count": null,
      "outputs": []
    },
    {
      "cell_type": "markdown",
      "source": [
        "**Punto2**\n",
        "Elaborar un programa en Python que permita simular en modo animado cuando una cadena de entrada contenga la palabra able. La parte animada es que un círculo cambiará de color cuando se reconoza la palabra."
      ],
      "metadata": {
        "id": "SMctBGxPph4B"
      }
    },
    {
      "cell_type": "code",
      "source": [
        "#El programa dara como resultado un circulo verde si encuentra un \"able\"\n",
        "#dentro de la cadena ingresada por el usuario y azul si no lo encuentra\n",
        "\n",
        "import matplotlib.pyplot as plt\n",
        "\n",
        "def contar_ables(input_str):\n",
        "    count = input_str.count(\"able\")\n",
        "    color = 'green' if count > 0 else 'blue'\n",
        "    return count, color\n",
        "\n",
        "# Solicitar al usuario ingresar la cadena\n",
        "input_string = input(\"Ingrese una cadena de texto: \")\n",
        "\n",
        "# Contar \"ables\" y obtener color\n",
        "count, color = contar_ables(input_string)\n",
        "\n",
        "# Graficar el círculo\n",
        "circle = plt.Circle((0.5, 0.5), 0.4, color=color)\n",
        "\n",
        "# Crear la figura y el eje\n",
        "fig, ax = plt.subplots()\n",
        "\n",
        "# Añadir el círculo al eje\n",
        "ax.add_artist(circle)\n",
        "\n",
        "# Establecer límites iguales para que el círculo sea circular\n",
        "ax.set_xlim(0, 1)\n",
        "ax.set_ylim(0, 1)\n",
        "ax.set_aspect('equal')\n",
        "\n",
        "# Ocultar los ejes\n",
        "ax.axis('off')\n",
        "\n",
        "# Mostrar el gráfico\n",
        "plt.show()\n",
        "\n",
        "# Imprimir el resultado\n",
        "print(\"Cantidad de veces que se encontró 'able':\", count)\n"
      ],
      "metadata": {
        "id": "lRaLLouqpvCV"
      },
      "execution_count": null,
      "outputs": []
    }
  ]
}