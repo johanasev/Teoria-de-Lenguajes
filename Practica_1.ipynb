{
  "nbformat": 4,
  "nbformat_minor": 0,
  "metadata": {
    "colab": {
      "provenance": [],
      "authorship_tag": "ABX9TyOFJG36oCVOKZ9LIwy2D1iZ",
      "include_colab_link": true
    },
    "kernelspec": {
      "name": "python3",
      "display_name": "Python 3"
    },
    "language_info": {
      "name": "python"
    }
  },
  "cells": [
    {
      "cell_type": "markdown",
      "metadata": {
        "id": "view-in-github",
        "colab_type": "text"
      },
      "source": [
        "<a href=\"https://colab.research.google.com/github/johanasev/Teoria-de-Lenguajes/blob/main/Practica_1.ipynb\" target=\"_parent\"><img src=\"https://colab.research.google.com/assets/colab-badge.svg\" alt=\"Open In Colab\"/></a>"
      ]
    },
    {
      "cell_type": "markdown",
      "source": [
        "**Practica 1 - Teoría de Lenguajes y Laboratorio**\n",
        "\n",
        "Angi Sirley Hoyos - CC: 1001481035<br>\n",
        "Johana Sevillano - CC: 1004189386<br>\n",
        "\n",
        "\n"
      ],
      "metadata": {
        "id": "BGbJ3pMYQTKM"
      }
    },
    {
      "cell_type": "markdown",
      "source": [
        "Se realiza los algoritmos de ordenamiento con un contador de comparaciones."
      ],
      "metadata": {
        "id": "H4AoUxiDe4UN"
      }
    },
    {
      "cell_type": "code",
      "source": [],
      "metadata": {
        "id": "00CYvCG1QR60"
      },
      "execution_count": null,
      "outputs": []
    },
    {
      "cell_type": "code",
      "execution_count": null,
      "metadata": {
        "colab": {
          "base_uri": "https://localhost:8080/"
        },
        "id": "ORzDzOA0FsMA",
        "outputId": "fe064461-061a-466c-9c46-cc83ef25dbb5"
      },
      "outputs": [
        {
          "output_type": "stream",
          "name": "stdout",
          "text": [
            "Arreglo ordenado:\n",
            "11 12 22 25 34 64 90 \n",
            "Número de comparaciones realizadas: 14\n"
          ]
        }
      ],
      "source": [
        "def bubble_sort(arr):\n",
        "    n = len(arr)\n",
        "    cont = 0\n",
        "    # Iterar a través de todos los elementos del arreglo\n",
        "    for i in range(n):\n",
        "        # Últimos i elementos ya están en su lugar, no es necesario compararlos\n",
        "        for j in range(0, n-i-1):\n",
        "            # Intercambiar si el elemento encontrado es mayor que el siguiente elemento\n",
        "            if arr[j] > arr[j+1]:\n",
        "                arr[j], arr[j+1] = arr[j+1], arr[j]\n",
        "                cont += 1\n",
        "\n",
        "    return cont\n",
        "\n",
        "# Ejemplo de uso\n",
        "arr = [64, 34, 25, 12, 22, 11, 90]\n",
        "comparaciones = bubble_sort(arr)\n",
        "\n",
        "print(\"Arreglo ordenado:\")\n",
        "for i in range(len(arr)):\n",
        "    print(\"%d\" % arr[i], end=\" \")\n",
        "\n",
        "print(\"\\nNúmero de comparaciones realizadas:\", comparaciones)"
      ]
    },
    {
      "cell_type": "code",
      "source": [
        "def insertion_sort(arr):\n",
        "    comparaciones = 0\n",
        "    for i in range(1, len(arr)):\n",
        "        key = arr[i]\n",
        "        j = i - 1\n",
        "        comparaciones += 1\n",
        "        while j >= 0 and key < arr[j]:\n",
        "            arr[j + 1] = arr[j]\n",
        "            j -= 1\n",
        "            comparaciones += 1\n",
        "        arr[j + 1] = key\n",
        "    return comparaciones\n",
        "\n",
        "# Ejemplo de uso\n",
        "arr = [64, 34, 25, 12, 22, 11, 90]\n",
        "comparaciones = insertion_sort(arr)\n",
        "\n",
        "print(\"Arreglo ordenado:\")\n",
        "for i in range(len(arr)):\n",
        "    print(\"%d\" % arr[i], end=\" \")\n",
        "\n",
        "print(\"\\nNúmero de comparaciones realizadas:\", comparaciones)"
      ],
      "metadata": {
        "colab": {
          "base_uri": "https://localhost:8080/"
        },
        "id": "VIYXSywCJ3o1",
        "outputId": "8e534a41-eb0e-43d6-c37c-b17b8c0533bf"
      },
      "execution_count": null,
      "outputs": [
        {
          "output_type": "stream",
          "name": "stdout",
          "text": [
            "Arreglo ordenado:\n",
            "11 12 22 25 34 64 90 \n",
            "Número de comparaciones realizadas: 20\n"
          ]
        }
      ]
    },
    {
      "cell_type": "code",
      "source": [
        "def selection_sort(arr):\n",
        "    n = len(arr)\n",
        "    comparaciones = 0\n",
        "    for i in range(n):\n",
        "        # Encuentra el índice del mínimo elemento en el resto del arreglo\n",
        "        min_idx = i\n",
        "        for j in range(i+1, n):\n",
        "            comparaciones += 1\n",
        "            if arr[j] < arr[min_idx]:\n",
        "                min_idx = j\n",
        "\n",
        "        # Intercambia el mínimo elemento con el primero no ordenado\n",
        "        arr[i], arr[min_idx] = arr[min_idx], arr[i]\n",
        "\n",
        "    return comparaciones\n",
        "\n",
        "# Ejemplo de uso\n",
        "arr = [64, 34, 25, 12, 22, 11, 90]\n",
        "comparaciones = selection_sort(arr)\n",
        "\n",
        "print(\"Arreglo ordenado:\")\n",
        "for i in range(len(arr)):\n",
        "    print(\"%d\" % arr[i], end=\" \")\n",
        "\n",
        "print(\"\\nNúmero de comparaciones realizadas:\", comparaciones)"
      ],
      "metadata": {
        "colab": {
          "base_uri": "https://localhost:8080/"
        },
        "id": "e73BIzNHOzj1",
        "outputId": "d18162a9-9560-4595-a4bc-93849d22e6f7"
      },
      "execution_count": null,
      "outputs": [
        {
          "output_type": "stream",
          "name": "stdout",
          "text": [
            "Arreglo ordenado:\n",
            "11 12 22 25 34 64 90 \n",
            "Número de comparaciones realizadas: 21\n"
          ]
        }
      ]
    },
    {
      "cell_type": "code",
      "source": [
        "def merge_sort(arr):\n",
        "    comparaciones = [0]  # Utilizamos una lista para almacenar el número de comparaciones y mantener la referencia mutable\n",
        "\n",
        "    def merge(arr, left, mid, right):\n",
        "        left_part = arr[left:mid+1]\n",
        "        right_part = arr[mid+1:right+1]\n",
        "\n",
        "        i = j = 0\n",
        "        k = left\n",
        "        while i < len(left_part) and j < len(right_part):\n",
        "            if left_part[i] <= right_part[j]:\n",
        "                arr[k] = left_part[i]\n",
        "                i += 1\n",
        "            else:\n",
        "                arr[k] = right_part[j]\n",
        "                j += 1\n",
        "            comparaciones[0] += 1\n",
        "            k += 1\n",
        "\n",
        "        while i < len(left_part):\n",
        "            arr[k] = left_part[i]\n",
        "            i += 1\n",
        "            k += 1\n",
        "\n",
        "        while j < len(right_part):\n",
        "            arr[k] = right_part[j]\n",
        "            j += 1\n",
        "            k += 1\n",
        "\n",
        "    def merge_sort_helper(arr, left, right):\n",
        "        if left < right:\n",
        "            mid = (left + right) // 2\n",
        "            merge_sort_helper(arr, left, mid)\n",
        "            merge_sort_helper(arr, mid+1, right)\n",
        "            merge(arr, left, mid, right)\n",
        "\n",
        "    merge_sort_helper(arr, 0, len(arr)-1)\n",
        "    return comparaciones[0]\n",
        "\n",
        "# Ejemplo de uso\n",
        "arr = [64, 34, 25, 12, 22, 11, 90]\n",
        "comparaciones = merge_sort(arr)\n",
        "\n",
        "print(\"Arreglo ordenado:\")\n",
        "for element in arr:\n",
        "    print(element, end=\" \")\n",
        "\n",
        "print(\"\\nNúmero de comparaciones realizadas:\", comparaciones)"
      ],
      "metadata": {
        "colab": {
          "base_uri": "https://localhost:8080/"
        },
        "id": "7uDQNT2iQNPc",
        "outputId": "2dd13741-ee57-4490-d418-4add4a08ff16"
      },
      "execution_count": null,
      "outputs": [
        {
          "output_type": "stream",
          "name": "stdout",
          "text": [
            "Arreglo ordenado:\n",
            "11 12 22 25 34 64 90 \n",
            "Número de comparaciones realizadas: 13\n"
          ]
        }
      ]
    },
    {
      "cell_type": "code",
      "source": [
        "def quick_sort(arr):\n",
        "    comparaciones = [0]  # Utilizamos una lista para almacenar el número de comparaciones y mantener la referencia mutable\n",
        "\n",
        "    def partition(arr, low, high):\n",
        "        pivot = arr[high]\n",
        "        i = low - 1\n",
        "        for j in range(low, high):\n",
        "            comparaciones[0] += 1\n",
        "            if arr[j] < pivot:\n",
        "                i += 1\n",
        "                arr[i], arr[j] = arr[j], arr[i]\n",
        "        arr[i + 1], arr[high] = arr[high], arr[i + 1]\n",
        "        return i + 1\n",
        "\n",
        "    def quick_sort_helper(arr, low, high):\n",
        "        if low < high:\n",
        "            pi = partition(arr, low, high)\n",
        "            quick_sort_helper(arr, low, pi - 1)\n",
        "            quick_sort_helper(arr, pi + 1, high)\n",
        "\n",
        "    quick_sort_helper(arr, 0, len(arr) - 1)\n",
        "    return comparaciones[0]\n",
        "\n",
        "# Ejemplo de uso\n",
        "arr = [64, 34, 25, 12, 22, 11, 90]\n",
        "comparaciones = quick_sort(arr)\n",
        "\n",
        "print(\"Arreglo ordenado:\")\n",
        "for element in arr:\n",
        "    print(element, end=\" \")\n",
        "\n",
        "print(\"\\nNúmero de comparaciones realizadas:\", comparaciones)"
      ],
      "metadata": {
        "colab": {
          "base_uri": "https://localhost:8080/"
        },
        "id": "--cXbuNDWpP0",
        "outputId": "31df683a-596c-4e4d-a73e-c4908c15863e"
      },
      "execution_count": null,
      "outputs": [
        {
          "output_type": "stream",
          "name": "stdout",
          "text": [
            "Arreglo ordenado:\n",
            "11 12 22 25 34 64 90 \n",
            "Número de comparaciones realizadas: 19\n"
          ]
        }
      ]
    },
    {
      "cell_type": "code",
      "source": [
        "def heapify(arr, n, i, comparaciones):\n",
        "    largest = i\n",
        "    l = 2 * i + 1\n",
        "    r = 2 * i + 2\n",
        "\n",
        "    if l < n and arr[l] > arr[largest]:\n",
        "        largest = l\n",
        "\n",
        "    if r < n and arr[r] > arr[largest]:\n",
        "        largest = r\n",
        "\n",
        "    if largest != i:\n",
        "        comparaciones[0] += 1\n",
        "        arr[i], arr[largest] = arr[largest], arr[i]\n",
        "        heapify(arr, n, largest, comparaciones)\n",
        "\n",
        "def heap_sort(arr):\n",
        "    n = len(arr)\n",
        "    comparaciones = [0]\n",
        "\n",
        "    # Construir un montículo máximo\n",
        "    for i in range(n // 2 - 1, -1, -1):\n",
        "        heapify(arr, n, i, comparaciones)\n",
        "\n",
        "    # Extraer elementos uno por uno\n",
        "    for i in range(n - 1, 0, -1):\n",
        "        arr[i], arr[0] = arr[0], arr[i]\n",
        "        heapify(arr, i, 0, comparaciones)\n",
        "\n",
        "    return comparaciones[0]\n",
        "\n",
        "# Ejemplo de uso\n",
        "arr = [64, 34, 25, 12, 22, 11, 90]\n",
        "comparaciones = heap_sort(arr)\n",
        "\n",
        "print(\"Arreglo ordenado:\")\n",
        "for element in arr:\n",
        "    print(element, end=\" \")\n",
        "\n",
        "print(\"\\nNúmero de comparaciones realizadas:\", comparaciones)"
      ],
      "metadata": {
        "colab": {
          "base_uri": "https://localhost:8080/"
        },
        "id": "fueRxwqLasRs",
        "outputId": "225dc9d6-2b67-4df7-88a3-91031c8a82ff"
      },
      "execution_count": null,
      "outputs": [
        {
          "output_type": "stream",
          "name": "stdout",
          "text": [
            "Arreglo ordenado:\n",
            "11 12 22 25 34 64 90 \n",
            "Número de comparaciones realizadas: 8\n"
          ]
        }
      ]
    },
    {
      "cell_type": "markdown",
      "source": [
        "Se agrega a los algoritmos de ordenamiento los tiempos de ejecución con diferentes fuentes de datos\n"
      ],
      "metadata": {
        "id": "0OmhmkyvfJMN"
      }
    },
    {
      "cell_type": "code",
      "source": [
        "import time\n",
        "import numpy as np\n",
        "def bubble_sort(arr):\n",
        "    n = len(arr)\n",
        "    cont = 0\n",
        "    # Iterar a través de todos los elementos del arreglo\n",
        "    for i in range(n):\n",
        "        # Últimos i elementos ya están en su lugar, no es necesario compararlos\n",
        "        for j in range(0, n-i-1):\n",
        "            # Intercambiar si el elemento encontrado es mayor que el siguiente elemento\n",
        "            if arr[j] > arr[j+1]:\n",
        "                arr[j], arr[j+1] = arr[j+1], arr[j]\n",
        "                cont += 1\n",
        "\n",
        "    return cont\n",
        "\n",
        "# Ejemplo de uso\n",
        "arr = np.random.randint(1, 1000, size=150)\n",
        "\n",
        "# Medir tiempo antes de la ejecución\n",
        "start_time = time.time()\n",
        "\n",
        "comparaciones = bubble_sort(arr)\n",
        "\n",
        "# Medir tiempo después de la ejecución\n",
        "end_time = time.time()\n",
        "\n",
        "print(\"Arreglo ordenado:\")\n",
        "for i in range(len(arr)):\n",
        "    print(\"%d\" % arr[i], end=\" \")\n",
        "\n",
        "print(\"\\nNúmero de comparaciones realizadas:\", comparaciones)\n",
        "print(\"Tiempo de ejecución:\", end_time - start_time, \"segundos\")"
      ],
      "metadata": {
        "colab": {
          "base_uri": "https://localhost:8080/"
        },
        "id": "oG1tYfn0fitj",
        "outputId": "4cd10684-fa84-4c0d-dff2-bb073a5e63ef"
      },
      "execution_count": null,
      "outputs": [
        {
          "output_type": "stream",
          "name": "stdout",
          "text": [
            "Arreglo ordenado:\n",
            "18 28 50 51 57 66 77 82 94 114 117 125 129 130 133 136 136 149 151 153 156 158 160 167 177 190 212 219 223 236 266 271 282 283 284 299 303 305 310 325 327 330 330 338 341 361 365 377 389 391 404 408 416 416 425 427 429 435 438 443 446 457 465 484 489 492 492 503 505 516 526 536 536 541 545 557 574 600 604 605 609 611 615 615 621 625 626 627 631 633 636 639 645 655 657 675 678 715 721 723 731 732 742 751 752 754 764 768 768 772 775 778 785 787 791 799 805 815 822 833 835 837 839 846 856 860 862 872 875 889 890 893 909 922 931 935 954 962 963 967 971 971 972 977 981 986 987 999 999 999 \n",
            "Número de comparaciones realizadas: 5683\n",
            "Tiempo de ejecución: 0.01096796989440918 segundos\n"
          ]
        }
      ]
    },
    {
      "cell_type": "code",
      "source": [
        "import time\n",
        "import numpy as np\n",
        "def insertion_sort(arr):\n",
        "    comparaciones = 0\n",
        "    for i in range(1, len(arr)):\n",
        "        key = arr[i]\n",
        "        j = i - 1\n",
        "        comparaciones += 1\n",
        "        while j >= 0 and key < arr[j]:\n",
        "            arr[j + 1] = arr[j]\n",
        "            j -= 1\n",
        "            comparaciones += 1\n",
        "        arr[j + 1] = key\n",
        "    return comparaciones\n",
        "\n",
        "# Ejemplo de uso\n",
        "arr = np.random.randint(1, 1000, size=150)\n",
        "\n",
        "# Medir tiempo antes de la ejecución\n",
        "start_time = time.time()\n",
        "\n",
        "comparaciones = insertion_sort(arr)\n",
        "\n",
        "# Medir tiempo después de la ejecución\n",
        "end_time = time.time()\n",
        "\n",
        "print(\"Arreglo ordenado:\")\n",
        "for i in range(len(arr)):\n",
        "    print(\"%d\" % arr[i], end=\" \")\n",
        "\n",
        "print(\"\\nNúmero de comparaciones realizadas:\", comparaciones)\n",
        "print(\"Tiempo de ejecución:\", end_time - start_time, \"segundos\")"
      ],
      "metadata": {
        "colab": {
          "base_uri": "https://localhost:8080/"
        },
        "id": "Vvuo64j9hIEZ",
        "outputId": "01f7081c-802c-4c76-fa9c-97b87d99277d"
      },
      "execution_count": null,
      "outputs": [
        {
          "output_type": "stream",
          "name": "stdout",
          "text": [
            "Arreglo ordenado:\n",
            "7 13 22 45 47 49 51 56 65 75 79 80 84 87 87 93 98 99 100 101 104 121 128 137 144 153 155 156 170 180 184 189 191 192 197 198 202 213 213 216 228 232 248 248 262 274 276 286 287 298 300 302 305 316 317 331 334 335 349 349 360 362 372 383 386 391 393 397 403 413 419 420 431 437 442 443 456 460 463 484 534 549 559 561 570 575 576 590 600 613 614 618 624 646 652 669 673 677 678 683 686 686 699 699 701 711 712 712 723 726 726 727 728 733 742 750 761 778 785 785 797 799 809 811 822 839 844 848 855 860 866 867 875 875 878 882 887 902 906 908 914 916 922 929 963 980 980 986 993 997 \n",
            "Número de comparaciones realizadas: 6249\n",
            "Tiempo de ejecución: 0.004561424255371094 segundos\n"
          ]
        }
      ]
    },
    {
      "cell_type": "code",
      "source": [
        "import time\n",
        "import numpy as np\n",
        "def selection_sort(arr):\n",
        "    n = len(arr)\n",
        "    comparaciones = 0\n",
        "    for i in range(n):\n",
        "        # Encuentra el índice del mínimo elemento en el resto del arreglo\n",
        "        min_idx = i\n",
        "        for j in range(i+1, n):\n",
        "            comparaciones += 1\n",
        "            if arr[j] < arr[min_idx]:\n",
        "                min_idx = j\n",
        "\n",
        "        # Intercambia el mínimo elemento con el primero no ordenado\n",
        "        arr[i], arr[min_idx] = arr[min_idx], arr[i]\n",
        "\n",
        "    return comparaciones\n",
        "\n",
        "# Ejemplo de uso\n",
        "arr = np.random.randint(1, 1000, size=150)\n",
        "\n",
        "# Medir tiempo antes de la ejecución\n",
        "start_time = time.time()\n",
        "\n",
        "comparaciones = selection_sort(arr)\n",
        "\n",
        "# Medir tiempo después de la ejecución\n",
        "end_time = time.time()\n",
        "\n",
        "print(\"Arreglo ordenado:\")\n",
        "for i in range(len(arr)):\n",
        "    print(\"%d\" % arr[i], end=\" \")\n",
        "\n",
        "print(\"\\nNúmero de comparaciones realizadas:\", comparaciones)\n",
        "print(\"Tiempo de ejecución:\", end_time - start_time, \"segundos\")"
      ],
      "metadata": {
        "colab": {
          "base_uri": "https://localhost:8080/"
        },
        "id": "_QX49sFuhjUC",
        "outputId": "e1c5d8cb-cce1-41f4-bf11-5286346ef69c"
      },
      "execution_count": null,
      "outputs": [
        {
          "output_type": "stream",
          "name": "stdout",
          "text": [
            "Arreglo ordenado:\n",
            "8 9 11 43 44 69 72 86 87 103 104 111 114 115 117 121 122 127 135 140 140 153 154 155 162 171 172 184 184 191 195 199 200 203 208 211 217 217 219 228 234 243 247 252 280 283 288 315 315 317 321 326 335 338 343 344 368 372 374 375 380 392 403 406 412 417 418 427 438 438 443 443 443 462 468 470 471 479 487 488 490 495 497 505 511 518 519 523 528 530 532 551 553 561 564 567 594 596 598 607 621 622 626 628 630 651 653 654 659 667 676 693 696 699 700 705 717 718 723 724 745 751 755 772 774 777 794 802 807 810 837 837 838 852 860 861 875 885 907 909 914 934 949 960 961 974 979 982 982 996 \n",
            "Número de comparaciones realizadas: 11175\n",
            "Tiempo de ejecución: 0.007147312164306641 segundos\n"
          ]
        }
      ]
    },
    {
      "cell_type": "code",
      "source": [
        "import time\n",
        "import numpy as np\n",
        "def merge_sort(arr):\n",
        "    comparaciones = [0]  # Utilizamos una lista para almacenar el número de comparaciones y mantener la referencia mutable\n",
        "\n",
        "    def merge(arr, left, mid, right):\n",
        "        left_part = arr[left:mid+1]\n",
        "        right_part = arr[mid+1:right+1]\n",
        "\n",
        "        i = j = 0\n",
        "        k = left\n",
        "        while i < len(left_part) and j < len(right_part):\n",
        "            if left_part[i] <= right_part[j]:\n",
        "                arr[k] = left_part[i]\n",
        "                i += 1\n",
        "            else:\n",
        "                arr[k] = right_part[j]\n",
        "                j += 1\n",
        "            comparaciones[0] += 1\n",
        "            k += 1\n",
        "\n",
        "        while i < len(left_part):\n",
        "            arr[k] = left_part[i]\n",
        "            i += 1\n",
        "            k += 1\n",
        "\n",
        "        while j < len(right_part):\n",
        "            arr[k] = right_part[j]\n",
        "            j += 1\n",
        "            k += 1\n",
        "\n",
        "    def merge_sort_helper(arr, left, right):\n",
        "        if left < right:\n",
        "            mid = (left + right) // 2\n",
        "            merge_sort_helper(arr, left, mid)\n",
        "            merge_sort_helper(arr, mid+1, right)\n",
        "            merge(arr, left, mid, right)\n",
        "\n",
        "    # Medir tiempo antes de la ejecución\n",
        "    start_time = time.time()\n",
        "\n",
        "    merge_sort_helper(arr, 0, len(arr)-1)\n",
        "\n",
        "    # Medir tiempo después de la ejecución\n",
        "    end_time = time.time()\n",
        "\n",
        "    return comparaciones[0], end_time - start_time\n",
        "\n",
        "# Ejemplo de uso\n",
        "arr = np.random.randint(1, 1000, size=150)\n",
        "comparaciones, tiempo_ejecucion = merge_sort(arr)\n",
        "\n",
        "print(\"Arreglo ordenado:\")\n",
        "for element in arr:\n",
        "    print(element, end=\" \")\n",
        "\n",
        "print(\"\\nNúmero de comparaciones realizadas:\", comparaciones)\n",
        "print(\"Tiempo de ejecución:\", tiempo_ejecucion, \"segundos\")"
      ],
      "metadata": {
        "colab": {
          "base_uri": "https://localhost:8080/"
        },
        "id": "fF9W52T6il_Z",
        "outputId": "53e88bfb-bd44-48f7-b337-1bf812fb64fb"
      },
      "execution_count": null,
      "outputs": [
        {
          "output_type": "stream",
          "name": "stdout",
          "text": [
            "Arreglo ordenado:\n",
            "8 8 8 8 8 8 8 8 8 8 8 8 8 8 8 8 8 8 8 8 8 8 8 8 8 14 14 14 14 14 14 14 14 14 14 14 14 14 14 14 14 14 14 14 14 14 14 14 14 14 14 14 14 14 14 14 14 14 14 14 37 37 37 37 37 37 37 37 37 37 37 37 37 37 37 37 37 37 37 37 37 37 37 37 37 37 37 37 37 37 37 37 37 37 37 37 37 37 37 37 37 37 37 37 37 37 37 37 37 37 37 37 37 37 37 37 37 37 37 37 37 37 37 37 37 37 37 37 37 37 37 37 37 37 37 37 37 37 37 37 37 37 37 37 37 37 37 170 170 170 \n",
            "Número de comparaciones realizadas: 626\n",
            "Tiempo de ejecución: 0.0017399787902832031 segundos\n"
          ]
        }
      ]
    },
    {
      "cell_type": "code",
      "source": [
        "import time\n",
        "import numpy as np\n",
        "def quick_sort(arr):\n",
        "    comparaciones = [0]  # Utilizamos una lista para almacenar el número de comparaciones y mantener la referencia mutable\n",
        "\n",
        "    def partition(arr, low, high):\n",
        "        pivot = arr[high]\n",
        "        i = low - 1\n",
        "        for j in range(low, high):\n",
        "            comparaciones[0] += 1\n",
        "            if arr[j] < pivot:\n",
        "                i += 1\n",
        "                arr[i], arr[j] = arr[j], arr[i]\n",
        "        arr[i + 1], arr[high] = arr[high], arr[i + 1]\n",
        "        return i + 1\n",
        "\n",
        "    def quick_sort_helper(arr, low, high):\n",
        "        if low < high:\n",
        "            pi = partition(arr, low, high)\n",
        "            quick_sort_helper(arr, low, pi - 1)\n",
        "            quick_sort_helper(arr, pi + 1, high)\n",
        "\n",
        "    # Medir tiempo antes de la ejecución\n",
        "    start_time = time.time()\n",
        "\n",
        "    quick_sort_helper(arr, 0, len(arr) - 1)\n",
        "\n",
        "    # Medir tiempo después de la ejecución\n",
        "    end_time = time.time()\n",
        "\n",
        "    return comparaciones[0], end_time - start_time\n",
        "\n",
        "# Ejemplo de uso\n",
        "arr = np.random.randint(1, 1000, size=150)\n",
        "comparaciones, tiempo_ejecucion = quick_sort(arr)\n",
        "\n",
        "print(\"Arreglo ordenado:\")\n",
        "for element in arr:\n",
        "    print(element, end=\" \")\n",
        "\n",
        "print(\"\\nNúmero de comparaciones realizadas:\", comparaciones)\n",
        "print(\"Tiempo de ejecución:\", tiempo_ejecucion, \"segundos\")"
      ],
      "metadata": {
        "colab": {
          "base_uri": "https://localhost:8080/"
        },
        "id": "3Kt9lBPDi66B",
        "outputId": "7b5cb416-bc7a-47ee-bd86-c407ec419c63"
      },
      "execution_count": null,
      "outputs": [
        {
          "output_type": "stream",
          "name": "stdout",
          "text": [
            "Arreglo ordenado:\n",
            "16 25 37 40 49 52 55 56 70 73 76 82 84 86 103 116 124 130 131 133 140 147 162 169 169 170 170 181 182 184 191 198 214 226 227 234 243 249 254 255 264 265 270 270 280 283 293 298 304 320 322 329 337 340 349 357 361 373 376 387 390 410 412 412 427 427 431 433 435 436 438 439 451 454 468 468 475 482 486 493 511 521 530 538 538 539 539 540 543 544 545 557 566 570 616 645 648 654 660 663 669 675 686 692 697 702 707 716 719 726 728 740 740 741 755 763 764 775 779 790 803 807 816 818 823 826 826 839 841 842 852 852 852 855 857 863 885 895 895 913 938 954 955 964 975 989 991 992 992 993 \n",
            "Número de comparaciones realizadas: 1129\n",
            "Tiempo de ejecución: 0.0005712509155273438 segundos\n"
          ]
        }
      ]
    },
    {
      "cell_type": "code",
      "source": [
        "import time\n",
        "import numpy as np\n",
        "def heapify(arr, n, i, comparaciones):\n",
        "    largest = i\n",
        "    l = 2 * i + 1\n",
        "    r = 2 * i + 2\n",
        "\n",
        "    if l < n and arr[l] > arr[largest]:\n",
        "        largest = l\n",
        "\n",
        "    if r < n and arr[r] > arr[largest]:\n",
        "        largest = r\n",
        "\n",
        "    if largest != i:\n",
        "        comparaciones[0] += 1\n",
        "        arr[i], arr[largest] = arr[largest], arr[i]\n",
        "        heapify(arr, n, largest, comparaciones)\n",
        "\n",
        "def heap_sort(arr):\n",
        "    n = len(arr)\n",
        "    comparaciones = [0]\n",
        "\n",
        "    # Construir un montículo máximo\n",
        "    for i in range(n // 2 - 1, -1, -1):\n",
        "        heapify(arr, n, i, comparaciones)\n",
        "\n",
        "    # Medir tiempo antes de la ejecución\n",
        "    start_time = time.time()\n",
        "\n",
        "    # Extraer elementos uno por uno\n",
        "    for i in range(n - 1, 0, -1):\n",
        "        arr[i], arr[0] = arr[0], arr[i]\n",
        "        heapify(arr, i, 0, comparaciones)\n",
        "\n",
        "    # Medir tiempo después de la ejecución\n",
        "    end_time = time.time()\n",
        "\n",
        "    return comparaciones[0], end_time - start_time\n",
        "\n",
        "# Ejemplo de uso\n",
        "arr = np.random.randint(1, 1000, size=150)\n",
        "comparaciones, tiempo_ejecucion = heap_sort(arr)\n",
        "\n",
        "print(\"Arreglo ordenado:\")\n",
        "for element in arr:\n",
        "    print(element, end=\" \")\n",
        "\n",
        "print(\"\\nNúmero de comparaciones realizadas:\", comparaciones)\n",
        "print(\"Tiempo de ejecución:\", tiempo_ejecucion, \"segundos\")"
      ],
      "metadata": {
        "colab": {
          "base_uri": "https://localhost:8080/"
        },
        "id": "gqS_IxSKjupK",
        "outputId": "eb302f59-03b8-4c2b-f30c-bc4d8782fe66"
      },
      "execution_count": null,
      "outputs": [
        {
          "output_type": "stream",
          "name": "stdout",
          "text": [
            "Arreglo ordenado:\n",
            "19 29 48 49 52 64 68 69 70 82 82 104 119 123 131 147 148 157 170 176 178 182 182 185 190 193 199 208 209 210 225 226 228 234 234 239 240 249 267 277 283 285 294 308 316 328 332 333 334 337 340 346 354 355 359 364 367 391 395 399 442 445 450 451 451 452 466 485 489 490 503 503 504 533 534 539 540 541 541 552 562 577 579 580 596 599 602 610 620 631 638 639 646 668 669 675 677 688 707 708 710 712 718 724 739 740 741 745 755 765 766 773 785 789 793 797 802 804 811 834 838 840 842 843 848 851 863 863 865 867 868 888 890 893 894 897 904 916 927 935 946 948 953 962 966 966 968 977 979 981 \n",
            "Número de comparaciones realizadas: 806\n",
            "Tiempo de ejecución: 0.0009109973907470703 segundos\n"
          ]
        }
      ]
    },
    {
      "cell_type": "markdown",
      "source": [
        "Enseguida se aplica la comparación gráfica de los resultados de los algoritmos entre número de comparaciones y tiempo de ejecución."
      ],
      "metadata": {
        "id": "YXv2ba-Nj4ID"
      }
    },
    {
      "cell_type": "code",
      "source": [
        "import matplotlib.pyplot as plt\n",
        "\n",
        "algoritmos = ['Bubble Sort', 'Insertion Sort', 'Selection Sort', 'Merge Sort', 'Quick Sort', 'Heapify']\n",
        "num_comparaciones = [32, 19, 66, 17, 40, 13]\n",
        "tiempo_ejecucion = [0.0001621246337890625, 0.00011157989501953125, 9.393692016601562e-05, 2.0503997802734375e-05, 3.24249267578125e-05, 1.621246337890625e-05]\n",
        "\n",
        "plt.figure(figsize=(10, 5))\n",
        "\n",
        "plt.subplot(1, 2, 1)\n",
        "plt.barh(algoritmos, num_comparaciones, color='skyblue')\n",
        "plt.xlabel('Número de comparaciones')\n",
        "plt.title('Comparación de algoritmos por número de comparaciones')\n",
        "\n",
        "plt.subplot(1, 2, 2)\n",
        "plt.barh(algoritmos, tiempo_ejecucion, color='lightgreen')\n",
        "plt.xlabel('Tiempo de ejecución (segundos)')\n",
        "plt.title('Comparación de algoritmos por tiempo de ejecución')\n",
        "\n",
        "plt.tight_layout()\n",
        "plt.show()"
      ],
      "metadata": {
        "id": "b9mRFFj7kDdA",
        "colab": {
          "base_uri": "https://localhost:8080/",
          "height": 507
        },
        "outputId": "4d188be2-7c73-4835-da1e-3b206618099b"
      },
      "execution_count": null,
      "outputs": [
        {
          "output_type": "display_data",
          "data": {
            "text/plain": [
              "<Figure size 1000x500 with 2 Axes>"
            ],
            "image/png": "[encoded data removed]"
          },
          "metadata": {}
        }
      ]
    },
    {
      "cell_type": "markdown",
      "source": [
        "\n",
        "<table>\n",
        "<tr>\n",
        "<td> Algoritmo </td>\n",
        "<td> Largo del Array <td>\n",
        "<td> Comparaciones <td>\n",
        "<td> Tiempo de ejecución <td>\n",
        "</tr>\n",
        "<tr>\n",
        "<td> Bubble Sort </td>\n",
        "<td> 10 <td>\n",
        "<td> 32 <td>\n",
        "<td> 0.0001621246337890625 <td>\n",
        "</tr>\n",
        "<tr>\n",
        "<td> Insertion Sort </td>\n",
        "<td> 6 <td>\n",
        "<td> 19 <td>\n",
        "<td> 0.00011157989501953125 <td>\n",
        "</tr>\n",
        "<tr>\n",
        "<td> Selection Sort </td>\n",
        "<td> 12 <td>\n",
        "<td> 66 <td>\n",
        "<td> 9.393692016601562e-05 <td>\n",
        "</tr>\n",
        "<tr>\n",
        "<td> Merge Sort </td>\n",
        "<td> 8 <td>\n",
        "<td> 17 <td>\n",
        "<td> 2.0503997802734375e-05 <td>\n",
        "</tr>\n",
        "<tr>\n",
        "<td> Quick Sort </td>\n",
        "<td> 12 <td>\n",
        "<td> 40 <td>\n",
        "<td> 3.24249267578125e-05 <td>\n",
        "</tr>\n",
        "<tr>\n",
        "<td> Heapify </td>\n",
        "<td> 9 <td>\n",
        "<td> 13 <td>\n",
        "<td> 1.621246337890625e-05 <td>\n",
        "</tr>\n",
        "\n",
        "</table>\n",
        "\n",
        "\n"
      ],
      "metadata": {
        "id": "LWLXSqYbgYLm"
      }
    },
    {
      "cell_type": "code",
      "source": [
        "import matplotlib.pyplot as plt\n",
        "\n",
        "algoritmos = ['Bubble Sort', 'Insertion Sort', 'Selection Sort', 'Merge Sort', 'Quick Sort', 'Heapify']\n",
        "num_comparaciones = [5683, 6249, 11175, 626, 1129, 806]\n",
        "tiempo_ejecucion = [0.01096796989440918, 0.004561424255371094, 0.007147312164306641, 0.0017399787902832031, 0.0005712509155273438, 0.0009109973907470703]\n",
        "\n",
        "plt.figure(figsize=(10, 5))\n",
        "\n",
        "# Gráfico de barras para comparar el número de comparaciones\n",
        "plt.subplot(1, 2, 1)\n",
        "plt.barh(algoritmos, num_comparaciones, color='skyblue')\n",
        "plt.xlabel('Número de comparaciones')\n",
        "plt.title('Comparación de algoritmos por número de comparaciones')\n",
        "\n",
        "# Gráfico de barras para comparar el tiempo de ejecución\n",
        "plt.subplot(1, 2, 2)\n",
        "plt.barh(algoritmos, tiempo_ejecucion, color='lightgreen')\n",
        "plt.xlabel('Tiempo de ejecución (segundos)')\n",
        "plt.title('Comparación de algoritmos por tiempo de ejecución')\n",
        "\n",
        "plt.tight_layout()\n",
        "plt.show()\n"
      ],
      "metadata": {
        "colab": {
          "base_uri": "https://localhost:8080/",
          "height": 507
        },
        "id": "DKEUHTPNQTNm",
        "outputId": "8fc0b254-ded9-4ae7-b87c-0c058f2f0caa"
      },
      "execution_count": null,
      "outputs": [
        {
          "output_type": "display_data",
          "data": {
            "text/plain": [
              "<Figure size 1000x500 with 2 Axes>"
            ],
            "image/png": "[encoded data removed]"
          },
          "metadata": {}
        }
      ]
    },
    {
      "cell_type": "markdown",
      "source": [
        "**Análisis de resultados**\n",
        "\n",
        "De los 3 métodos de ordenación que tienen menos de 10 posiciones en el array como son Insertion Sort, Merge Sort y Heapify, este último es mucho más eficiente globalmente en tiempo de ejecución y número de comparaciones. Por el contrario el Insertion sort aunque tienen menos posisciones en el array es el que mas comparaciones debe hacer y toma mas tiempo de ejecución siendo menos eficiente del grupo.\n",
        "\n",
        "De los 3 restantes que tienen mas de 10 posiciones en el array que son Bubble sort, Selection sort y Quick sort este último es el que resulta más eficiente en cuentao a tiempo de ejecución con un número de comparaciones promedio, por el contrario el Bubble sort aunque es el que menos posiciones tiene en el array gasta mucho mas tiempo en ejecución sin emabrgo el número de comparaciones es el más pequeño.\n",
        "\n",
        "En grandes volumenes de datos vemos que las gráficas tanto de número de comparaciones como de tiempo de ejecución presentan tendencias similares llegando a la conclusión de uso eficiente en los algoritmos Quick y Heapify destacando en tiempo de ejecución y Merge eb número de comparaciones.\n",
        "\n",
        "\n"
      ],
      "metadata": {
        "id": "7IiTxL7GjsC6"
      }
    }
  ]
}